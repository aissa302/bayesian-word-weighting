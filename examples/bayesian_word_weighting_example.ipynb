{
 "cells": [
  {
   "cell_type": "code",
   "execution_count": 2,
   "metadata": {},
   "outputs": [],
   "source": [
    "import pandas as pd\n",
    "import sys\n",
    "sys.path.insert(1, '/home/revo/bayesian-word-weighting/bayesian_weighting') # Add the parent directory to the Python path\n",
    "from bayesian_weighting import calculate_bayes_word_weights"
   ]
  },
  {
   "cell_type": "code",
   "execution_count": 3,
   "metadata": {},
   "outputs": [],
   "source": [
    "data = {\n",
    "    \"Description\": [\n",
    "        \"Embedded systems require real-time processing.\",\n",
    "        \"General-purpose systems are versatile.\",\n",
    "        \"Ambiguity can arise in mixed descriptions.\",\n",
    "        \"IoT devices are a key part of embedded systems.\",\n",
    "        \"Desktop computers fall under general-purpose systems.\"\n",
    "    ],\n",
    "    \"Label\": [\"esv\", \"gpsv\", \"ambiguous\", \"esv\", \"gpsv\"]\n",
    "}"
   ]
  },
  {
   "cell_type": "code",
   "execution_count": 4,
   "metadata": {},
   "outputs": [
    {
     "name": "stdout",
     "output_type": "stream",
     "text": [
      "Sample Data:\n",
      "                                         Description      Label\n",
      "0     Embedded systems require real-time processing.        esv\n",
      "1             General-purpose systems are versatile.       gpsv\n",
      "2         Ambiguity can arise in mixed descriptions.  ambiguous\n",
      "3    IoT devices are a key part of embedded systems.        esv\n",
      "4  Desktop computers fall under general-purpose s...       gpsv\n"
     ]
    }
   ],
   "source": [
    "# Convert to a pandas DataFrame\n",
    "df = pd.DataFrame(data)\n",
    "print(\"Sample Data:\")\n",
    "print(df)\n"
   ]
  },
  {
   "cell_type": "code",
   "execution_count": 5,
   "metadata": {},
   "outputs": [
    {
     "name": "stderr",
     "output_type": "stream",
     "text": [
      "Processing Documents: 5it [00:00, 2253.31it/s]\n",
      "Calculating Word Weights: 100%|██████████| 25/25 [00:00<00:00, 1515.70it/s]\n"
     ]
    }
   ],
   "source": [
    "# ## Step 3: Run the Bayesian Word Weighting Algorithm\n",
    "# Using the `calculate_bayesian_word_weights` function\n",
    "word_weights = calculate_bayes_word_weights(df.Description, df.Label)"
   ]
  },
  {
   "cell_type": "code",
   "execution_count": 6,
   "metadata": {},
   "outputs": [
    {
     "name": "stdout",
     "output_type": "stream",
     "text": [
      "\n",
      "Word Weights for 'esv':\n",
      "{'processing.': 23.025850847100088, 'require': 23.025850847100088, 'real-time': 23.025850847100088, 'embedded': 23.025850847100088, 'systems': 0.0, 'are': 0.0, 'key': 23.025850847100088, 'iot': 23.025850847100088, 'systems.': 0.0, 'of': 23.025850847100088, 'devices': 23.025850847100088, 'part': 23.025850847100088, 'a': 23.025850847100088, 'general-purpose': -23.025850929840455, 'versatile.': -23.025850929840455, 'fall': -23.025850929840455, 'desktop': -23.025850929840455, 'under': -23.025850929840455, 'computers': -23.025850929840455, 'mixed': -23.025850929840455, 'in': -23.025850929840455, 'can': -23.025850929840455, 'arise': -23.025850929840455, 'descriptions.': -23.025850929840455, 'ambiguity': -23.025850929840455}\n",
      "\n",
      "Word Weights for 'gpsv':\n",
      "{'processing.': -23.025850929840455, 'require': -23.025850929840455, 'real-time': -23.025850929840455, 'embedded': -23.025850929840455, 'systems': 0.0, 'are': 0.0, 'key': -23.025850929840455, 'iot': -23.025850929840455, 'systems.': 0.0, 'of': -23.025850929840455, 'devices': -23.025850929840455, 'part': -23.025850929840455, 'a': -23.025850929840455, 'general-purpose': 23.025850847100088, 'versatile.': 23.025850847100088, 'fall': 23.025850847100088, 'desktop': 23.025850847100088, 'under': 23.025850847100088, 'computers': 23.025850847100088, 'mixed': -23.025850929840455, 'in': -23.025850929840455, 'can': -23.025850929840455, 'arise': -23.025850929840455, 'descriptions.': -23.025850929840455, 'ambiguity': -23.025850929840455}\n",
      "\n",
      "Word Weights for 'ambiguous':\n",
      "{'processing.': -23.025850929840455, 'require': -23.025850929840455, 'real-time': -23.025850929840455, 'embedded': -23.025850929840455, 'systems': -23.025850929840455, 'are': -23.025850929840455, 'key': -23.025850929840455, 'iot': -23.025850929840455, 'systems.': -23.025850929840455, 'of': -23.025850929840455, 'devices': -23.025850929840455, 'part': -23.025850929840455, 'a': -23.025850929840455, 'general-purpose': -23.025850929840455, 'versatile.': -23.025850929840455, 'fall': -23.025850929840455, 'desktop': -23.025850929840455, 'under': -23.025850929840455, 'computers': -23.025850929840455, 'mixed': 23.025850847100088, 'in': 23.025850847100088, 'can': 23.025850847100088, 'arise': 23.025850847100088, 'descriptions.': 23.025850847100088, 'ambiguity': 23.025850847100088}\n"
     ]
    }
   ],
   "source": [
    "# ## Step 4: Analyze the Results\n",
    "# Print the word weights for each class\n",
    "print(\"\\nWord Weights for 'esv':\")\n",
    "print(word_weights[\"esv\"])\n",
    "\n",
    "print(\"\\nWord Weights for 'gpsv':\")\n",
    "print(word_weights[\"gpsv\"])\n",
    "\n",
    "print(\"\\nWord Weights for 'ambiguous':\")\n",
    "print(word_weights[\"ambiguous\"])"
   ]
  },
  {
   "cell_type": "code",
   "execution_count": 7,
   "metadata": {},
   "outputs": [
    {
     "data": {
      "image/png": "[encoded data removed]",
      "text/plain": [
       "<Figure size 640x480 with 1 Axes>"
      ]
     },
     "metadata": {},
     "output_type": "display_data"
    }
   ],
   "source": [
    "# ## Step 5: Visualize Results (Optional)\n",
    "# Import libraries for visualization\n",
    "import matplotlib.pyplot as plt\n",
    "\n",
    "# Visualize the top words by weight for the 'esv' class\n",
    "top_words_esv = sorted(word_weights[\"esv\"].items(), key=lambda x: -x[1])[:5]\n",
    "words, weights = zip(*top_words_esv)\n",
    "\n",
    "plt.bar(words, weights)\n",
    "plt.title(\"Top Words for 'esv'\")\n",
    "plt.ylabel(\"Log Odds\")\n",
    "plt.show()"
   ]
  }
 ],
 "metadata": {
  "kernelspec": {
   "display_name": "Python 3",
   "language": "python",
   "name": "python3"
  },
  "language_info": {
   "codemirror_mode": {
    "name": "ipython",
    "version": 3
   },
   "file_extension": ".py",
   "mimetype": "text/x-python",
   "name": "python",
   "nbconvert_exporter": "python",
   "pygments_lexer": "ipython3",
   "version": "3.12.1"
  }
 },
 "nbformat": 4,
 "nbformat_minor": 2
}
